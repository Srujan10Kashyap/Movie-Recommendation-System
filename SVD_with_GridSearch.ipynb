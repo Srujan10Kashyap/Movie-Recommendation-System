{
  "nbformat": 4,
  "nbformat_minor": 0,
  "metadata": {
    "colab": {
      "name": "SVD_with_GridSearch.ipynb",
      "provenance": [],
      "collapsed_sections": []
    },
    "kernelspec": {
      "name": "python3",
      "display_name": "Python 3"
    },
    "language_info": {
      "name": "python"
    }
  },
  "cells": [
    {
      "cell_type": "code",
      "source": [
        "!pip install surprise\n",
        "!pip install recommenders\n",
        "from surprise import SVD, SVDpp, Reader\n",
        "from surprise import Dataset\n",
        "from surprise.model_selection import cross_validate\n",
        "from surprise.prediction_algorithms import KNNBasic\n",
        "from surprise import accuracy\n",
        "from surprise.model_selection import train_test_split, GridSearchCV \n",
        "import math\n",
        "import numpy as np\n",
        "import pandas as pd\n",
        "import time\n",
        "from recommenders.evaluation.python_evaluation import ndcg_at_k"
      ],
      "metadata": {
        "id": "8InaexGg1yji"
      },
      "execution_count": null,
      "outputs": []
    },
    {
      "cell_type": "code",
      "source": [
        "def convert_traintest_dataframe_forsurprise(training_dataframe, testing_dataframe):\n",
        "    reader = Reader(rating_scale=(0, 5))\n",
        "    trainset = Dataset.load_from_df(training_dataframe[['userId', 'movieId', 'rating']], reader)\n",
        "    testset = Dataset.load_from_df(testing_dataframe[['userId', 'movieId', 'rating']], reader)\n",
        "    trainset = trainset.construct_trainset(trainset.raw_ratings)\n",
        "    testset = testset.construct_testset(testset.raw_ratings)\n",
        "    return trainset, testset"
      ],
      "metadata": {
        "id": "qY7mmKcK2cAV"
      },
      "execution_count": null,
      "outputs": []
    },
    {
      "cell_type": "code",
      "source": [
        "file_path_train = 'train_20.csv'\n",
        "file_path_test = 'test_20.csv'\n",
        "traindf = pd.read_csv(file_path_train)\n",
        "testdf = pd.read_csv(file_path_test)\n"
      ],
      "metadata": {
        "id": "lq1557ZC2kdM"
      },
      "execution_count": null,
      "outputs": []
    },
    {
      "cell_type": "code",
      "source": [
        "traindf.rename(columns={'user':'userId','movie':'movieId'},inplace=True)\n",
        "testdf.rename(columns={'user':'userId','movie':'movieId'},inplace=True)"
      ],
      "metadata": {
        "id": "eqyyPExE23me"
      },
      "execution_count": null,
      "outputs": []
    },
    {
      "cell_type": "code",
      "source": [
        "trainset, testset = convert_traintest_dataframe_forsurprise(traindf, testdf)"
      ],
      "metadata": {
        "id": "IazjH5jr3DxJ"
      },
      "execution_count": null,
      "outputs": []
    },
    {
      "cell_type": "code",
      "source": [
        "model = SVD(n_factors=80, reg_all=0.06, n_epochs=30, lr_all=0.01)\n",
        "model.fit(trainset)"
      ],
      "metadata": {
        "id": "GocCja0H19Qz",
        "colab": {
          "base_uri": "https://localhost:8080/"
        },
        "outputId": "0519a9b3-c290-4673-8e62-578e8bc8d1ea"
      },
      "execution_count": null,
      "outputs": [
        {
          "output_type": "execute_result",
          "data": {
            "text/plain": [
              "<surprise.prediction_algorithms.matrix_factorization.SVD at 0x7fb031f17e50>"
            ]
          },
          "metadata": {},
          "execution_count": 24
        }
      ]
    },
    {
      "cell_type": "code",
      "source": [
        "preds = model.test(testset)"
      ],
      "metadata": {
        "id": "c3Y91B-kwNNo"
      },
      "execution_count": null,
      "outputs": []
    },
    {
      "cell_type": "code",
      "source": [
        "prediction_dict = []\n",
        "for user, movie, true_rating, est, _ in preds:\n",
        "  prediction_dict.append({\"user\":user, \"movie\":movie, \"rating\":true_rating, \"prediction\":est})"
      ],
      "metadata": {
        "id": "Cao2_8ziwNNp"
      },
      "execution_count": null,
      "outputs": []
    },
    {
      "cell_type": "code",
      "source": [
        "prediction_df = pd.DataFrame(prediction_dict)"
      ],
      "metadata": {
        "id": "C6VlwOf4wNNp"
      },
      "execution_count": null,
      "outputs": []
    },
    {
      "cell_type": "code",
      "source": [
        "top_n_test_data = prediction_df.groupby(\"user\", as_index=False).apply(lambda x: x.nlargest(10, \"rating\")).reset_index(drop=True)"
      ],
      "metadata": {
        "id": "ZpXZDzLbwNNp"
      },
      "execution_count": null,
      "outputs": []
    },
    {
      "cell_type": "code",
      "source": [
        "accuracy.rmse(preds)"
      ],
      "metadata": {
        "colab": {
          "base_uri": "https://localhost:8080/"
        },
        "outputId": "f2db1544-ec93-4f30-df34-d5fe53ff9851",
        "id": "7pn9SG_SwNNp"
      },
      "execution_count": null,
      "outputs": [
        {
          "output_type": "stream",
          "name": "stdout",
          "text": [
            "RMSE: 0.8540\n"
          ]
        },
        {
          "output_type": "execute_result",
          "data": {
            "text/plain": [
              "0.8539855907318256"
            ]
          },
          "metadata": {},
          "execution_count": 29
        }
      ]
    },
    {
      "cell_type": "code",
      "source": [
        "accuracy.mae(preds)"
      ],
      "metadata": {
        "colab": {
          "base_uri": "https://localhost:8080/"
        },
        "outputId": "b9c11b5d-0da4-4ba3-a12c-01aab5f41e8f",
        "id": "aQEQFBPdwNNq"
      },
      "execution_count": null,
      "outputs": [
        {
          "output_type": "stream",
          "name": "stdout",
          "text": [
            "MAE:  0.6557\n"
          ]
        },
        {
          "output_type": "execute_result",
          "data": {
            "text/plain": [
              "0.6557282795500964"
            ]
          },
          "metadata": {},
          "execution_count": 30
        }
      ]
    },
    {
      "cell_type": "code",
      "source": [
        "ndcg_at_k(top_n_test_data, prediction_df, col_user=\"user\", col_item=\"movie\", col_rating=\"rating\", col_prediction=\"prediction\", relevancy_method=\"top_k\")"
      ],
      "metadata": {
        "colab": {
          "base_uri": "https://localhost:8080/"
        },
        "outputId": "380c8fe4-bc90-42a3-d70b-9af27251830d",
        "id": "7q_ym2EqwNNq"
      },
      "execution_count": null,
      "outputs": [
        {
          "output_type": "execute_result",
          "data": {
            "text/plain": [
              "0.7174899837901276"
            ]
          },
          "metadata": {},
          "execution_count": 31
        }
      ]
    },
    {
      "cell_type": "code",
      "source": [
        "mean_precision = 0\n",
        "mean_recall = 0\n",
        "for user in traindf[\"userId\"].unique():\n",
        "  test_set = prediction_df[prediction_df[\"user\"] == user].reset_index()\n",
        "  ratings_list = list(zip(test_set[\"rating\"], test_set[\"prediction\"]))\n",
        "  ratings_list.sort(key=lambda x: x[1], reverse=True)\n",
        "\n",
        "  total_relevant = sum([rat >= 4.0 for rat, pred in ratings_list])\n",
        "  total_recommended = sum([pred >= 4.0 for rat, pred in ratings_list[:10]])\n",
        "  total_rec_rel = sum([rat >= 4.0 and pred >= 4.0 for rat, pred in ratings_list[:10]])\n",
        "\n",
        "  mean_precision += (total_rec_rel/total_recommended) if total_recommended > 0 else 0\n",
        "  mean_recall += (total_rec_rel/total_relevant) if total_relevant > 0 else 0\n",
        "\n",
        "print(f\"Precision: {mean_precision/len(traindf['user_index'].unique())}\")\n",
        "print(f\"Recall: {mean_recall/len(traindf['user_index'].unique())}\")"
      ],
      "metadata": {
        "colab": {
          "base_uri": "https://localhost:8080/"
        },
        "outputId": "4454a1c8-a882-4153-dcad-4bc9d6824b76",
        "id": "1B9ltbtFwNNq"
      },
      "execution_count": null,
      "outputs": [
        {
          "output_type": "stream",
          "name": "stdout",
          "text": [
            "Precision: 0.6299310434556336\n",
            "Recall: 0.31090367944666286\n"
          ]
        }
      ]
    },
    {
      "cell_type": "code",
      "source": [
        ""
      ],
      "metadata": {
        "id": "EqlMac-n6kAS"
      },
      "execution_count": null,
      "outputs": []
    }
  ]
}