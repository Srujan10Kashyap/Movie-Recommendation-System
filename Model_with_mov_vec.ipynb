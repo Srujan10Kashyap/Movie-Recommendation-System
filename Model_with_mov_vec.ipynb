{
  "nbformat": 4,
  "nbformat_minor": 0,
  "metadata": {
    "colab": {
      "name": "Model_with_mov_vec.ipynb",
      "provenance": [],
      "collapsed_sections": []
    },
    "kernelspec": {
      "name": "python3",
      "display_name": "Python 3"
    },
    "language_info": {
      "name": "python"
    }
  },
  "cells": [
    {
      "cell_type": "code",
      "execution_count": null,
      "metadata": {
        "id": "ElO4ZuTQs2f6"
      },
      "outputs": [],
      "source": [
        "!pip install recommenders\n",
        "import tensorflow as tf\n",
        "import numpy as np\n",
        "import pandas as pd\n",
        "import scipy as sp\n",
        "from sklearn.model_selection import train_test_split\n",
        "import pickle\n",
        "from recommenders.evaluation.python_evaluation import ndcg_at_k"
      ]
    },
    {
      "cell_type": "code",
      "source": [
        "train_data = pd.read_csv(\"train_20.csv\")\n",
        "test_data = pd.read_csv(\"test_20.csv\")\n",
        "ratings = pd.read_csv(\"ratings.csv\")"
      ],
      "metadata": {
        "id": "FSwVEMD7ucIQ"
      },
      "execution_count": null,
      "outputs": []
    },
    {
      "cell_type": "code",
      "source": [
        "movie_index_map = pickle.load(open(\"movie_index_map.pkl\", \"rb\"))\n",
        "movie_vec_mat = pickle.load(open(\"movie_vector_matrix.pkl\", \"rb\"))"
      ],
      "metadata": {
        "id": "C-bAZj1VuvMr"
      },
      "execution_count": null,
      "outputs": []
    },
    {
      "cell_type": "code",
      "source": [
        "no_movies = len(ratings[\"movieId\"].unique())\n",
        "no_users = len(ratings[\"userId\"].unique())"
      ],
      "metadata": {
        "id": "jDI_9wUOuytx"
      },
      "execution_count": null,
      "outputs": []
    },
    {
      "cell_type": "code",
      "source": [
        "# user df layers\n",
        "user_input = tf.keras.Input(shape=(1,))\n",
        "u_embedding_layer = tf.keras.layers.Embedding(no_users+1, 100, input_length=1)(user_input)\n",
        "u_embedding_layer = tf.keras.layers.Flatten()(u_embedding_layer)\n",
        "user_dense1 = tf.keras.layers.Dense(512, activation=\"relu\")(u_embedding_layer)\n",
        "drop4 = tf.keras.layers.Dropout(0.2)(user_dense1)\n",
        "user_dense2 = tf.keras.layers.Dense(256, activation=\"relu\")(drop4)"
      ],
      "metadata": {
        "id": "krP3Gx8dnQYG"
      },
      "execution_count": null,
      "outputs": []
    },
    {
      "cell_type": "code",
      "source": [
        "# item df layers\n",
        "item_input = tf.keras.Input(shape=(1, ))\n",
        "i_embedding_layer = tf.keras.layers.Embedding(no_movies+1, 100, input_length=1)(item_input)\n",
        "i_embedding_layer = tf.keras.layers.Flatten()(i_embedding_layer)\n",
        "item_dense1 = tf.keras.layers.Dense(512, activation=\"relu\")(i_embedding_layer)\n",
        "drop3 = tf.keras.layers.Dropout(0.2)(item_dense1)\n",
        "item_dense2 = tf.keras.layers.Dense(256, activation=\"relu\")(drop3)"
      ],
      "metadata": {
        "id": "DpNfv6cqnWyD"
      },
      "execution_count": null,
      "outputs": []
    },
    {
      "cell_type": "code",
      "source": [
        "#movie vector layer\n",
        "movie_input = tf.keras.Input(shape=(100,))\n",
        "#concatenation layer\n",
        "concat = tf.keras.layers.concatenate([user_dense2, item_dense2, movie_input], axis=1)\n",
        "concat = tf.keras.layers.concatenate([concat, movie_input])\n",
        "\n",
        "# interaction network\n",
        "inter_dense1 = tf.keras.layers.Dense(256, activation=\"relu\")(concat)\n",
        "inter_dense2 = tf.keras.layers.Dense(128, activation=\"relu\")(inter_dense1)\n",
        "inter_dense3 = tf.keras.layers.Dense(64, activation=\"relu\")(inter_dense2)\n",
        "output_layer = tf.keras.layers.Dense(1, activation=\"linear\")(inter_dense3)\n",
        "\n",
        "model = tf.keras.Model(inputs=[user_input, item_input, movie_input], outputs=output_layer)\n",
        "model.compile(optimizer=\"adam\", loss='mse')"
      ],
      "metadata": {
        "id": "ldigbx7BncDh"
      },
      "execution_count": null,
      "outputs": []
    },
    {
      "cell_type": "code",
      "source": [
        "# training data\n",
        "\n",
        "train_users, train_movies, train_labels, train_movieids = train[\"user_index\"].values, train[\"movie_index\"].values, train[\"rating\"].values, train[\"movie\"].values\n",
        "train_movie_vecs = [movie_vec_mat[movie_index_map[movie_id]-1] for movie_id in train_movieids]"
      ],
      "metadata": {
        "id": "YAE1jMU1n_AB"
      },
      "execution_count": null,
      "outputs": []
    },
    {
      "cell_type": "code",
      "source": [
        "model.fit([np.array(train_users), np.array(train_movies), np.array(train_movie_vecs)], np.array(train_labels), epochs=10, shuffle=True, batch_size=128, validation_split=0.2)"
      ],
      "metadata": {
        "id": "HV6wxxP39lMv"
      },
      "execution_count": null,
      "outputs": []
    },
    {
      "cell_type": "code",
      "source": [
        "m = tf.keras.metrics.RootMeanSquaredError()\n",
        "test_users, test_movies, test_ratings, test_movieids = test_data[\"user_index\"].values, test_data[\"movie_index\"].values, test_data[\"rating\"].values, test_data[\"movie\"].values\n",
        "test_movie_vecs = [movie_vec_mat[movie_index_map[mov]] for mov in test_movieids]\n",
        "pred_ratings = model.predict([test_users, test_movies, np.array(test_movie_vecs)])\n",
        "pred_ratings = np.array([rating[0] for rating in pred_ratings])\n",
        "test_data[\"predictions\"] = pred_ratings\n",
        "mae = tf.keras.metrics.mean_absolute_error(np.array(test_data[\"rating\"]), pred_ratings)\n",
        "print(f\"Mean Absolute Error: {np.mean(mae)}\")\n",
        "m.update_state(pred_ratings, test_ratings)\n",
        "print(f\"Root Mean Square Error: {m.result().numpy()}\")"
      ],
      "metadata": {
        "id": "AG5xis6d-XKH"
      },
      "execution_count": null,
      "outputs": []
    },
    {
      "cell_type": "code",
      "source": [
        "mean_precision = 0\n",
        "mean_recall = 0\n",
        "for user in train_data[\"user_index\"].unique():\n",
        "  test_set = test_data[test_data[\"user_index\"] == user].reset_index()\n",
        "  ratings_list = list(zip(test_set[\"rating\"], test_set[\"predictions\"]))\n",
        "  ratings_list.sort(key=lambda x: x[1], reverse=True)\n",
        "\n",
        "  total_relevant = sum(rat >= 4.0 for rat, pred in ratings_list)\n",
        "  total_recommended = sum(pred >= 4.0 for rat, pred in ratings_list[:10])\n",
        "  total_rec_rel = sum(rat >= 4.0 and pred >= 4.0 for rat, pred in ratings_list[:10])\n",
        "\n",
        "  mean_precision += (total_rec_rel/total_recommended) if total_recommended > 0 else 0\n",
        "  mean_recall += (total_rec_rel/total_relevant) if total_relevant > 0 else 0\n",
        "  \n",
        "print(f\"Precision: {mean_precision/len(train_data['user_index'].unique())}\")\n",
        "print(f\"Recall: {mean_recall/len(train_data['user_index'].unique())}\")"
      ],
      "metadata": {
        "id": "ItQGzwqK-4Xz"
      },
      "execution_count": null,
      "outputs": []
    },
    {
      "cell_type": "code",
      "source": [
        "top_n_test_data = test_data.groupby(\"user\", as_index=False).apply(lambda x: x.nlargest(10, \"rating\")).reset_index(drop=True)"
      ],
      "metadata": {
        "id": "LZZlQ-2W5ECE"
      },
      "execution_count": null,
      "outputs": []
    },
    {
      "cell_type": "code",
      "source": [
        "ndcg_at_k(top_n_test_data, test_data, col_user=\"user\", col_item=\"movie\", col_rating=\"rating\", col_prediction=\"predictions\")"
      ],
      "metadata": {
        "id": "U49MNr899j27"
      },
      "execution_count": null,
      "outputs": []
    }
  ]
}