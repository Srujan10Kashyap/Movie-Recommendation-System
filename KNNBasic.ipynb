{
  "nbformat": 4,
  "nbformat_minor": 0,
  "metadata": {
    "colab": {
      "name": "KNNBasic.ipynb",
      "provenance": [],
      "collapsed_sections": []
    },
    "kernelspec": {
      "name": "python3",
      "display_name": "Python 3"
    },
    "language_info": {
      "name": "python"
    }
  },
  "cells": [
    {
      "cell_type": "code",
      "execution_count": null,
      "metadata": {
        "id": "AHl_W4tJxERK"
      },
      "outputs": [],
      "source": [
        "!pip install surprise\n",
        "!pip install recommenders\n",
        "from surprise.prediction_algorithms import KNNBasic\n",
        "from surprise import Reader\n",
        "from surprise import Dataset\n",
        "from surprise.model_selection import cross_validate\n",
        "from surprise import accuracy\n",
        "from surprise.model_selection import train_test_split, GridSearchCV \n",
        "import math\n",
        "from collections import defaultdict\n",
        "import csv\n",
        "from sklearn.metrics import ndcg_score\n",
        "import numpy as np\n",
        "import pandas as pd\n",
        "import time\n",
        "from recommenders.evaluation.python_evaluation import ndcg_at_k"
      ]
    },
    {
      "cell_type": "code",
      "source": [
        "def convert_traintest_dataframe_forsurprise(training_dataframe, testing_dataframe):\n",
        "    reader = Reader(rating_scale=(0, 5))\n",
        "    trainset = Dataset.load_from_df(training_dataframe[['userId', 'movieId', 'rating']], reader)\n",
        "    testset = Dataset.load_from_df(testing_dataframe[['userId', 'movieId', 'rating']], reader)\n",
        "    trainset = trainset.construct_trainset(trainset.raw_ratings)\n",
        "    testset = testset.construct_testset(testset.raw_ratings)\n",
        "    return trainset, testset"
      ],
      "metadata": {
        "id": "qY7mmKcK2cAV"
      },
      "execution_count": null,
      "outputs": []
    },
    {
      "cell_type": "code",
      "source": [
        "file_path_train = 'train_20.csv'\n",
        "file_path_test = 'test_20.csv'\n",
        "traindf = pd.read_csv(file_path_train)\n",
        "testdf = pd.read_csv(file_path_test)\n"
      ],
      "metadata": {
        "id": "lq1557ZC2kdM"
      },
      "execution_count": null,
      "outputs": []
    },
    {
      "cell_type": "code",
      "source": [
        "traindf.rename(columns={'user':'userId','movie':'movieId'},inplace=True)\n",
        "testdf.rename(columns={'user':'userId','movie':'movieId'},inplace=True)"
      ],
      "metadata": {
        "id": "eqyyPExE23me"
      },
      "execution_count": null,
      "outputs": []
    },
    {
      "cell_type": "code",
      "source": [
        "trainset, testset = convert_traintest_dataframe_forsurprise(traindf, testdf)"
      ],
      "metadata": {
        "id": "IazjH5jr3DxJ"
      },
      "execution_count": null,
      "outputs": []
    },
    {
      "cell_type": "code",
      "source": [
        "model = KNNBasic()\n",
        "model.fit(trainset)"
      ],
      "metadata": {
        "id": "T_ksQXXhr50g",
        "colab": {
          "base_uri": "https://localhost:8080/"
        },
        "outputId": "9216230e-8ca6-46b5-d13c-31d37889db1f"
      },
      "execution_count": null,
      "outputs": [
        {
          "output_type": "stream",
          "name": "stdout",
          "text": [
            "Computing the msd similarity matrix...\n",
            "Done computing similarity matrix.\n"
          ]
        },
        {
          "output_type": "execute_result",
          "data": {
            "text/plain": [
              "<surprise.prediction_algorithms.knns.KNNBasic at 0x7f0a52cc5dd0>"
            ]
          },
          "metadata": {},
          "execution_count": 18
        }
      ]
    },
    {
      "cell_type": "code",
      "source": [
        "preds = model.test(testset)"
      ],
      "metadata": {
        "id": "c3Y91B-kwNNo"
      },
      "execution_count": null,
      "outputs": []
    },
    {
      "cell_type": "code",
      "source": [
        "prediction_dict = []\n",
        "for user, movie, true_rating, est, _ in preds:\n",
        "  prediction_dict.append({\"user\":user, \"movie\":movie, \"rating\":true_rating, \"prediction\":est})"
      ],
      "metadata": {
        "id": "Cao2_8ziwNNp"
      },
      "execution_count": null,
      "outputs": []
    },
    {
      "cell_type": "code",
      "source": [
        "prediction_df = pd.DataFrame(prediction_dict)"
      ],
      "metadata": {
        "id": "C6VlwOf4wNNp"
      },
      "execution_count": null,
      "outputs": []
    },
    {
      "cell_type": "code",
      "source": [
        "top_n_test_data = prediction_df.groupby(\"user\", as_index=False).apply(lambda x: x.nlargest(10, \"rating\")).reset_index(drop=True)"
      ],
      "metadata": {
        "id": "ZpXZDzLbwNNp"
      },
      "execution_count": null,
      "outputs": []
    },
    {
      "cell_type": "code",
      "source": [
        "accuracy.rmse(preds)"
      ],
      "metadata": {
        "colab": {
          "base_uri": "https://localhost:8080/"
        },
        "outputId": "08bdcc8d-db20-47ca-9580-51bdf8d5aa4a",
        "id": "7pn9SG_SwNNp"
      },
      "execution_count": null,
      "outputs": [
        {
          "output_type": "stream",
          "name": "stdout",
          "text": [
            "RMSE: 0.9440\n"
          ]
        },
        {
          "output_type": "execute_result",
          "data": {
            "text/plain": [
              "0.9440390348629059"
            ]
          },
          "metadata": {},
          "execution_count": 23
        }
      ]
    },
    {
      "cell_type": "code",
      "source": [
        "accuracy.mae(preds)"
      ],
      "metadata": {
        "colab": {
          "base_uri": "https://localhost:8080/"
        },
        "outputId": "85bc2117-9f4b-4288-e9cc-8e814775fc55",
        "id": "aQEQFBPdwNNq"
      },
      "execution_count": null,
      "outputs": [
        {
          "output_type": "stream",
          "name": "stdout",
          "text": [
            "MAE:  0.7238\n"
          ]
        },
        {
          "output_type": "execute_result",
          "data": {
            "text/plain": [
              "0.7237586981002322"
            ]
          },
          "metadata": {},
          "execution_count": 24
        }
      ]
    },
    {
      "cell_type": "code",
      "source": [
        "ndcg_at_k(top_n_test_data, prediction_df, col_user=\"user\", col_item=\"movie\", col_rating=\"rating\", col_prediction=\"prediction\", relevancy_method=\"top_k\")"
      ],
      "metadata": {
        "colab": {
          "base_uri": "https://localhost:8080/"
        },
        "outputId": "5aaec603-03a7-4719-a0a3-4c2ab0b42536",
        "id": "7q_ym2EqwNNq"
      },
      "execution_count": 27,
      "outputs": [
        {
          "output_type": "stream",
          "name": "stdout",
          "text": [
            "0.651015658741884\n"
          ]
        }
      ]
    },
    {
      "cell_type": "code",
      "source": [
        "mean_precision = 0\n",
        "mean_recall = 0\n",
        "for user in traindf[\"userId\"].unique():\n",
        "  test_set = prediction_df[prediction_df[\"user\"] == user].reset_index()\n",
        "  ratings_list = list(zip(test_set[\"rating\"], test_set[\"prediction\"]))\n",
        "  ratings_list.sort(key=lambda x: x[1], reverse=True)\n",
        "\n",
        "  total_relevant = sum([rat >= 4.0 for rat, pred in ratings_list])\n",
        "  total_recommended = sum([pred >= 4.0 for rat, pred in ratings_list[:10]])\n",
        "  total_rec_rel = sum([rat >= 4.0 and pred >= 4.0 for rat, pred in ratings_list[:10]])\n",
        "\n",
        "  mean_precision += (total_rec_rel/total_recommended) if total_recommended > 0 else 0\n",
        "  mean_recall += (total_rec_rel/total_relevant) if total_relevant > 0 else 0\n",
        "\n",
        "print(f\"Precision: {mean_precision/len(traindf['user_index'].unique())}\")\n",
        "print(f\"Recall: {mean_recall/len(traindf['user_index'].unique())}\")"
      ],
      "metadata": {
        "colab": {
          "base_uri": "https://localhost:8080/"
        },
        "outputId": "f62f0279-f85f-4dbd-da0a-9d8121e9b743",
        "id": "1B9ltbtFwNNq"
      },
      "execution_count": 28,
      "outputs": [
        {
          "output_type": "stream",
          "name": "stdout",
          "text": [
            "Precision: 0.6163192818110849\n",
            "Recall: 0.3016068259013989\n"
          ]
        }
      ]
    }
  ]
}