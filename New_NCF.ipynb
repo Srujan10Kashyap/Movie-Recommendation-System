{
  "nbformat": 4,
  "nbformat_minor": 0,
  "metadata": {
    "colab": {
      "name": "New-NCF.ipynb",
      "provenance": [],
      "collapsed_sections": []
    },
    "kernelspec": {
      "name": "python3",
      "display_name": "Python 3"
    },
    "language_info": {
      "name": "python"
    }
  },
  "cells": [
    {
      "cell_type": "code",
      "execution_count": null,
      "metadata": {
        "id": "du1GZP1EZYlF"
      },
      "outputs": [],
      "source": [
        "import tensorflow as tf\n",
        "import numpy as np\n",
        "import pandas as pd\n",
        "import scipy as sp\n",
        "from sklearn.model_selection import train_test_split\n",
        "!pip install recommenders\n",
        "from recommenders.evaluation.python_evaluation import ndcg_at_k"
      ]
    },
    {
      "cell_type": "markdown",
      "source": [
        "**Pre Processing**"
      ],
      "metadata": {
        "id": "9kHTNz-xkwyD"
      }
    },
    {
      "cell_type": "code",
      "source": [
        "ratings = pd.read_csv(\"ratings.csv\")"
      ],
      "metadata": {
        "id": "Z2xmxjyRZe0g"
      },
      "execution_count": null,
      "outputs": []
    },
    {
      "cell_type": "code",
      "source": [
        "ratings.rename(columns={\"userId\": \"user\", \"movieId\": \"movie\"}, inplace=True)"
      ],
      "metadata": {
        "id": "ocF1tXiPeeyK"
      },
      "execution_count": null,
      "outputs": []
    },
    {
      "cell_type": "code",
      "source": [
        "test_data = pd.DataFrame(columns=[\"user\", \"movie\", \"rating\", \"timestamp\"])\n",
        "train_data = pd.DataFrame(columns=[\"user\", \"movie\", \"rating\", \"timestamp\"])"
      ],
      "metadata": {
        "id": "C_8yxEogdpin"
      },
      "execution_count": null,
      "outputs": []
    },
    {
      "cell_type": "code",
      "source": [
        "movie_index_map = {movie:i+1 for i, movie in enumerate(ratings[\"movie\"].unique())}\n",
        "user_index_map = {user:i+1 for i, user in enumerate(ratings[\"user\"].unique())}"
      ],
      "metadata": {
        "id": "KYSahRvBjysS"
      },
      "execution_count": null,
      "outputs": []
    },
    {
      "cell_type": "code",
      "source": [
        "train_data.to_csv(\"train_20.csv\", index=False)\n",
        "test_data.to_csv(\"test_20.csv\", index=False)"
      ],
      "metadata": {
        "id": "S-R2XUGumaCy"
      },
      "execution_count": null,
      "outputs": []
    },
    {
      "cell_type": "code",
      "source": [
        "no_movies = len(ratings[\"movie\"].unique())\n",
        "no_users = len(ratings[\"user\"].unique())"
      ],
      "metadata": {
        "id": "HHpho5o6mvKo"
      },
      "execution_count": null,
      "outputs": []
    },
    {
      "cell_type": "code",
      "source": [
        "# user df layers\n",
        "user_input = tf.keras.Input(shape=(1,))\n",
        "u_embedding_layer = tf.keras.layers.Embedding(no_users+1, 100, input_length=1)(user_input)\n",
        "u_embedding_layer = tf.keras.layers.Flatten()(u_embedding_layer)\n",
        "user_dense1 = tf.keras.layers.Dense(512, activation=\"relu\")(u_embedding_layer)\n",
        "user_dense2 = tf.keras.layers.Dense(256, activation=\"relu\")(user_dense1)"
      ],
      "metadata": {
        "id": "krP3Gx8dnQYG"
      },
      "execution_count": null,
      "outputs": []
    },
    {
      "cell_type": "code",
      "source": [
        "# item df layers\n",
        "item_input = tf.keras.Input(shape=(1, ))\n",
        "i_embedding_layer = tf.keras.layers.Embedding(no_movies+1, 100, input_length=1)(item_input)\n",
        "i_embedding_layer = tf.keras.layers.Flatten()(i_embedding_layer)\n",
        "item_dense1 = tf.keras.layers.Dense(512, activation=\"relu\")(i_embedding_layer)\n",
        "item_dense2 = tf.keras.layers.Dense(256, activation=\"relu\")(item_dense1)"
      ],
      "metadata": {
        "id": "DpNfv6cqnWyD"
      },
      "execution_count": null,
      "outputs": []
    },
    {
      "cell_type": "code",
      "source": [
        "#concatenation layer\n",
        "concat = tf.keras.layers.concatenate([user_dense2, item_dense2], axis=1)\n",
        "\n",
        "# interaction network\n",
        "inter_dense1 = tf.keras.layers.Dense(256, activation=\"relu\")(concat)\n",
        "inter_dense2 = tf.keras.layers.Dense(128, activation=\"relu\")(inter_dense1)\n",
        "inter_dense3 = tf.keras.layers.Dense(64, activation=\"relu\")(inter_dense2)\n",
        "output_layer = tf.keras.layers.Dense(1, activation=\"linear\")(inter_dense3)\n",
        "\n",
        "model = tf.keras.Model(inputs=[user_input, item_input], outputs=output_layer)\n",
        "model.compile(optimizer=\"adam\", loss='mse')"
      ],
      "metadata": {
        "id": "ldigbx7BncDh"
      },
      "execution_count": null,
      "outputs": []
    },
    {
      "cell_type": "code",
      "source": [
        "# training\n",
        "\n",
        "train_users, train_movies, train_labels = train_data[\"user_index\"].values, train_data[\"movie_index\"].values, train_data[\"rating\"].values\n",
        "model.fit([np.array(train_users), np.array(train_movies)], np.array(train_labels), epochs=10, shuffle=True, batch_size=128, validation_split=0.1)"
      ],
      "metadata": {
        "id": "YAE1jMU1n_AB"
      },
      "execution_count": null,
      "outputs": []
    },
    {
      "cell_type": "code",
      "source": [
        "m = tf.keras.metrics.RootMeanSquaredError()\n",
        "test_users, test_movies, test_ratings = test_data[\"user_index\"].values, test_data[\"movie_index\"].values, test_data[\"rating\"].values\n",
        "pred_ratings = model.predict([test_users, test_movies])\n",
        "pred_ratings = np.array([rating[0] for rating in pred_ratings])\n",
        "test_data[\"predictions\"] = pred_ratings\n",
        "mae = tf.keras.metrics.mean_absolute_error(np.array(test_data[\"rating\"]), pred_ratings)\n",
        "print(f\"Mean Absolute Error: {np.mean(mae)}\")\n",
        "m.update_state(pred_ratings, test_ratings)\n",
        "print(f\"Root Mean Square Error: {m.result().numpy()}\")"
      ],
      "metadata": {
        "id": "54Shg5jSoWre"
      },
      "execution_count": null,
      "outputs": []
    },
    {
      "cell_type": "code",
      "source": [
        "model.save(\"new_ncf_model.h5\")"
      ],
      "metadata": {
        "id": "_6JPRVu20dBm"
      },
      "execution_count": null,
      "outputs": []
    },
    {
      "cell_type": "code",
      "source": [
        "mean_precision = 0\n",
        "mean_recall = 0\n",
        "for user in train_data[\"user_index\"].unique():\n",
        "  test_set = test_data[test_data[\"user_index\"] == user].reset_index()\n",
        "  ratings_list = list(zip(test_set[\"rating\"], test_set[\"predictions\"]))\n",
        "  ratings_list.sort(key=lambda x: x[1], reverse=True)\n",
        "\n",
        "  total_relevant = sum(rat >= 4.0 for rat, pred in ratings_list)\n",
        "  total_recommended = sum(pred >= 4.0 for rat, pred in ratings_list[:10])\n",
        "  total_rec_rel = sum(rat >= 4.0 and pred >= 4.0 for rat, pred in ratings_list[:10])\n",
        "\n",
        "  mean_precision += (total_rec_rel/total_recommended) if total_recommended > 0 else 0\n",
        "  mean_recall += (total_rec_rel/total_relevant) if total_relevant > 0 else 0\n",
        "  \n",
        "print(f\"Precision: {mean_precision/len(train_data['user_index'].unique())}\")\n",
        "print(f\"Recall: {mean_recall/len(train_data['user_index'].unique())}\")"
      ],
      "metadata": {
        "id": "ooa2I2eWtHU2"
      },
      "execution_count": null,
      "outputs": []
    },
    {
      "cell_type": "code",
      "source": [
        "top_n_test_data = test_data.groupby(\"user\", as_index=False).apply(lambda x: x.nlargest(10, \"rating\")).reset_index(drop=True)"
      ],
      "metadata": {
        "id": "LZZlQ-2W5ECE"
      },
      "execution_count": null,
      "outputs": []
    },
    {
      "cell_type": "code",
      "source": [
        "ndcg_at_k(top_n_test_data, test_data, col_user=\"user\", col_item=\"movie\", col_rating=\"rating\", col_prediction=\"predictions\")"
      ],
      "metadata": {
        "id": "U49MNr899j27"
      },
      "execution_count": null,
      "outputs": []
    }
  ]
}