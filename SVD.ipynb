{
  "nbformat": 4,
  "nbformat_minor": 0,
  "metadata": {
    "colab": {
      "name": "SVD.ipynb",
      "provenance": [],
      "collapsed_sections": []
    },
    "kernelspec": {
      "name": "python3",
      "display_name": "Python 3"
    },
    "language_info": {
      "name": "python"
    }
  },
  "cells": [
    {
      "cell_type": "code",
      "source": [
        "from surprise import SVD, Reader\n",
        "from surprise import Dataset\n",
        "from surprise.model_selection import cross_validate\n",
        "from surprise import accuracy\n",
        "from surprise.model_selection import train_test_split, GridSearchCV \n",
        "import math\n",
        "import numpy as np\n",
        "import pandas as pd\n",
        "from recommenders.evaluation.python_evaluation import ndcg_at_k"
      ],
      "metadata": {
        "id": "pXnKD0DhVBTg"
      },
      "execution_count": 38,
      "outputs": []
    },
    {
      "cell_type": "code",
      "source": [
        "def convert_traintest_dataframe_forsurprise(training_dataframe, testing_dataframe):\n",
        "    reader = Reader(rating_scale=(0, 5))\n",
        "    trainset = Dataset.load_from_df(training_dataframe[['userId', 'movieId', 'rating']], reader)\n",
        "    testset = Dataset.load_from_df(testing_dataframe[['userId', 'movieId', 'rating']], reader)\n",
        "    trainset = trainset.construct_trainset(trainset.raw_ratings)\n",
        "    testset = testset.construct_testset(testset.raw_ratings)\n",
        "    return trainset, testset"
      ],
      "metadata": {
        "id": "qY7mmKcK2cAV"
      },
      "execution_count": null,
      "outputs": []
    },
    {
      "cell_type": "code",
      "source": [
        "file_path_train = 'train_20.csv'\n",
        "file_path_test = 'test_20.csv'\n",
        "traindf = pd.read_csv(file_path_train)\n",
        "testdf = pd.read_csv(file_path_test)\n"
      ],
      "metadata": {
        "id": "lq1557ZC2kdM"
      },
      "execution_count": null,
      "outputs": []
    },
    {
      "cell_type": "code",
      "source": [
        "traindf.rename(columns={'user':'userId','movie':'movieId'},inplace=True)\n",
        "testdf.rename(columns={'user':'userId','movie':'movieId'},inplace=True)"
      ],
      "metadata": {
        "id": "eqyyPExE23me"
      },
      "execution_count": null,
      "outputs": []
    },
    {
      "cell_type": "code",
      "source": [
        "trainset, testset = convert_traintest_dataframe_forsurprise(traindf, testdf)"
      ],
      "metadata": {
        "id": "IazjH5jr3DxJ"
      },
      "execution_count": null,
      "outputs": []
    },
    {
      "cell_type": "code",
      "source": [
        "model = SVD()\n",
        "model.fit(trainset)"
      ],
      "metadata": {
        "id": "PtOdI34BIX9n",
        "colab": {
          "base_uri": "https://localhost:8080/"
        },
        "outputId": "85741db5-bd52-4a8a-aa92-0dbf05b88df0"
      },
      "execution_count": null,
      "outputs": [
        {
          "output_type": "execute_result",
          "data": {
            "text/plain": [
              "<surprise.prediction_algorithms.matrix_factorization.SVD at 0x7f8c40b1cd90>"
            ]
          },
          "metadata": {},
          "execution_count": 6
        }
      ]
    },
    {
      "cell_type": "code",
      "source": [
        "preds = model.test(testset)"
      ],
      "metadata": {
        "id": "tC9hzFkuPQIS"
      },
      "execution_count": null,
      "outputs": []
    },
    {
      "cell_type": "code",
      "source": [
        "prediction_dict = []\n",
        "for user, movie, true_rating, est, _ in preds:\n",
        "  prediction_dict.append({\"user\":user, \"movie\":movie, \"rating\":true_rating, \"prediction\":est})"
      ],
      "metadata": {
        "id": "rrYOpF6zPKug"
      },
      "execution_count": null,
      "outputs": []
    },
    {
      "cell_type": "code",
      "source": [
        "prediction_df = pd.DataFrame(prediction_dict)"
      ],
      "metadata": {
        "id": "uPxYe5fWQ8k6"
      },
      "execution_count": null,
      "outputs": []
    },
    {
      "cell_type": "code",
      "source": [
        "top_n_test_data = prediction_df.groupby(\"user\", as_index=False).apply(lambda x: x.nlargest(10, \"rating\")).reset_index(drop=True)"
      ],
      "metadata": {
        "id": "U7uyowgIRWNN"
      },
      "execution_count": null,
      "outputs": []
    },
    {
      "cell_type": "code",
      "source": [
        "accuracy.rmse(preds)"
      ],
      "metadata": {
        "colab": {
          "base_uri": "https://localhost:8080/"
        },
        "id": "-Pkl_UCxWG87",
        "outputId": "24d21398-7d81-489e-e7d1-2c2c067c55a0"
      },
      "execution_count": null,
      "outputs": [
        {
          "output_type": "stream",
          "name": "stdout",
          "text": [
            "RMSE: 0.8714\n"
          ]
        },
        {
          "output_type": "execute_result",
          "data": {
            "text/plain": [
              "0.8714367789305317"
            ]
          },
          "metadata": {},
          "execution_count": 11
        }
      ]
    },
    {
      "cell_type": "code",
      "source": [
        "accuracy.mae(preds)"
      ],
      "metadata": {
        "colab": {
          "base_uri": "https://localhost:8080/"
        },
        "id": "0jOIOw0bWKd5",
        "outputId": "9b761cc2-179a-46dd-8df7-3a3963ccac94"
      },
      "execution_count": null,
      "outputs": [
        {
          "output_type": "stream",
          "name": "stdout",
          "text": [
            "MAE:  0.6697\n"
          ]
        },
        {
          "output_type": "execute_result",
          "data": {
            "text/plain": [
              "0.6696558528532981"
            ]
          },
          "metadata": {},
          "execution_count": 12
        }
      ]
    },
    {
      "cell_type": "code",
      "source": [
        "ndcg_at_k(top_n_test_data, prediction_df, col_user=\"user\", col_item=\"movie\", col_rating=\"rating\", col_prediction=\"prediction\", relevancy_method=\"top_k\")"
      ],
      "metadata": {
        "colab": {
          "base_uri": "https://localhost:8080/"
        },
        "id": "luKoQxqBSHYN",
        "outputId": "85daa453-afad-4070-cbf1-6824c3b31421"
      },
      "execution_count": null,
      "outputs": [
        {
          "output_type": "execute_result",
          "data": {
            "text/plain": [
              "0.712708622743958"
            ]
          },
          "metadata": {},
          "execution_count": 13
        }
      ]
    },
    {
      "cell_type": "code",
      "source": [
        "mean_precision = 0\n",
        "mean_recall = 0\n",
        "for user in traindf[\"userId\"].unique():\n",
        "  test_set = prediction_df[prediction_df[\"user\"] == user].reset_index()\n",
        "  ratings_list = list(zip(test_set[\"rating\"], test_set[\"prediction\"]))\n",
        "  ratings_list.sort(key=lambda x: x[1], reverse=True)\n",
        "\n",
        "  total_relevant = sum([rat >= 4.0 for rat, pred in ratings_list])\n",
        "  total_recommended = sum([pred >= 4.0 for rat, pred in ratings_list[:10]])\n",
        "  total_rec_rel = sum([rat >= 4.0 and pred >= 4.0 for rat, pred in ratings_list[:10]])\n",
        "\n",
        "  mean_precision += (total_rec_rel/total_recommended) if total_recommended > 0 else 0\n",
        "  mean_recall += (total_rec_rel/total_relevant) if total_relevant > 0 else 0\n",
        "\n",
        "print(f\"Precision: {mean_precision/len(traindf['user_index'].unique())}\")\n",
        "print(f\"Recall: {mean_recall/len(traindf['user_index'].unique())}\")"
      ],
      "metadata": {
        "colab": {
          "base_uri": "https://localhost:8080/"
        },
        "id": "LHDxjlY9STtT",
        "outputId": "d8443783-ef01-4447-8177-84591fc1bd23"
      },
      "execution_count": null,
      "outputs": [
        {
          "output_type": "stream",
          "name": "stdout",
          "text": [
            "Precision: 0.6035811865729904\n",
            "Recall: 0.29523312293257725\n"
          ]
        }
      ]
    }
  ]
}